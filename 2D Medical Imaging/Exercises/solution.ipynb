{
 "cells": [
  {
   "cell_type": "code",
   "execution_count": 1,
   "metadata": {},
   "outputs": [],
   "source": [
    "%matplotlib notebook\n",
    "import matplotlib.pyplot as plt\n",
    "from skimage.io import imread, imshow\n",
    "import numpy as np\n",
    "import pandas as pd"
   ]
  },
  {
   "cell_type": "markdown",
   "metadata": {},
   "source": [
    "## Read in your first x-ray image and display it using imshow()"
   ]
  },
  {
   "cell_type": "code",
   "execution_count": null,
   "metadata": {},
   "outputs": [],
   "source": [
    "chest_xray_1 = imread('chest_xray_1.png')\n",
    "imshow(chest_xray_1)"
   ]
  },
  {
   "cell_type": "markdown",
   "metadata": {},
   "source": [
    "## Fill in some coordinates for sections of the image that contain lung, heart, and bone:"
   ]
  },
  {
   "cell_type": "code",
   "execution_count": null,
   "metadata": {},
   "outputs": [],
   "source": [
    "# Hovering your cursor over the image above will display your coordinates within the image at the bottom\n",
    "# right corner of the figure. Use this to fill in starting and ending x & y values for lungs, heart, and bone\n",
    "# in the chest x-ray image above\n",
    "\n",
    "lung_x = [210,265]\n",
    "lung_y = [380,430]\n",
    "\n",
    "heart_x = [515,600]\n",
    "heart_y = [600,650]\n",
    "\n",
    "bone_x = [420,480]\n",
    "bone_y = [720,755]"
   ]
  },
  {
   "cell_type": "markdown",
   "metadata": {},
   "source": [
    "## Now, plot the image intensities for the subsections that you chose using different coordinates for different structures:"
   ]
  },
  {
   "cell_type": "code",
   "execution_count": null,
   "metadata": {},
   "outputs": [],
   "source": [
    "plt.figure(figsize=(5,5))\n",
    "plt.hist(chest_xray_1[bone_y[0]:bone_y[1],bone_x[0]:bone_x[1]].ravel(), bins = 256,color='green')\n",
    "plt.hist(chest_xray_1[lung_y[0]:lung_y[1],lung_x[0]:lung_x[1]].ravel(),bins =256,color='blue')\n",
    "plt.hist(chest_xray_1[heart_y[0]:heart_y[1],heart_x[0]:heart_x[1]].ravel(),bins=256,color='red')\n",
    "plt.legend(['Bone','Lungs','Heart'])\n",
    "plt.show()"
   ]
  },
  {
   "cell_type": "markdown",
   "metadata": {},
   "source": [
    "## Now let's try with a less healthy looking chest x-ray:"
   ]
  },
  {
   "cell_type": "markdown",
   "metadata": {},
   "source": [
    "#### Note that if you do *not* turn off the 'interactive' visualization by clicking the 'power' button"
   ]
  },
  {
   "cell_type": "code",
   "execution_count": null,
   "metadata": {},
   "outputs": [],
   "source": [
    "# in the xray imagee above, the new chest x-ray will replace the previous rather than being shown in a separate image\n",
    "# below. \n",
    "chest_xray_3 = imread('chest_xray_3.png')\n",
    "imshow(chest_xray_3)"
   ]
  },
  {
   "cell_type": "code",
   "execution_count": null,
   "metadata": {},
   "outputs": [],
   "source": [
    "# Try the same exercise as above, selecting coordinates for lung, heart, and bone\n",
    "\n",
    "## Fill in your own values here:\n",
    "lung_x = [690,760]\n",
    "lung_y = [500,560]\n",
    "\n",
    "heart_x = [550,615]\n",
    "heart_y = [750,800]\n",
    "\n",
    "bone_x = [430,480]\n",
    "bone_y = [770,810]"
   ]
  },
  {
   "cell_type": "markdown",
   "metadata": {},
   "source": [
    "### Notice how the intensity values are different for the three structures compared to those in the first image:"
   ]
  },
  {
   "cell_type": "code",
   "execution_count": null,
   "metadata": {},
   "outputs": [],
   "source": [
    "plt.figure(figsize=(5,5))\n",
    "plt.hist(chest_xray_3[bone_y[0]:bone_y[1],bone_x[0]:bone_x[1]].ravel(), bins = 256,color='green')\n",
    "plt.hist(chest_xray_3[lung_y[0]:lung_y[1],lung_x[0]:lung_x[1]].ravel(),bins =256,color='blue')\n",
    "plt.hist(chest_xray_3[heart_y[0]:heart_y[1],heart_x[0]:heart_x[1]].ravel(),bins=256,color='red')\n",
    "plt.legend(['Bone','Lungs','Heart'])\n",
    "plt.show()"
   ]
  },
  {
   "cell_type": "markdown",
   "metadata": {},
   "source": [
    "## Finally, let's look at another type of image: mammography:"
   ]
  },
  {
   "cell_type": "code",
   "execution_count": null,
   "metadata": {},
   "outputs": [],
   "source": [
    "mammo_left = imread('mammo_left.pgm')\n",
    "mammo_right = imread('mammo_right.pgm') "
   ]
  },
  {
   "cell_type": "markdown",
   "metadata": {},
   "source": [
    "#### First visualize the left breast:"
   ]
  },
  {
   "cell_type": "markdown",
   "metadata": {},
   "source": [
    "#### Note that if you do *not* turn off the 'interactive' visualization by clicking the 'power' button"
   ]
  },
  {
   "cell_type": "code",
   "execution_count": null,
   "metadata": {},
   "outputs": [],
   "source": [
    "# in the xray imagee above, the new chest x-ray will replace the previous rather than being shown in a separate image\n",
    "# below. \n",
    "imshow(mammo_left)"
   ]
  },
  {
   "cell_type": "code",
   "execution_count": null,
   "metadata": {},
   "outputs": [],
   "source": [
    "## The left breast has tumor in it, it's center is around [530,340]\n",
    "## Choose coordinates that draw a box around it:\n",
    "\n",
    "tumor_x = [480,580]\n",
    "tumor_y = [310,380]"
   ]
  },
  {
   "cell_type": "markdown",
   "metadata": {},
   "source": [
    "#### Now visualize the right breast:\n",
    "#### Note that if you do *not* turn off the 'interactive' visualization by clicking the 'power' button"
   ]
  },
  {
   "cell_type": "code",
   "execution_count": null,
   "metadata": {},
   "outputs": [],
   "source": [
    "# in the figure above, the right breast will replace the left rather than being shown in a separate image\n",
    "# below. \n",
    "imshow(mammo_right)"
   ]
  },
  {
   "cell_type": "code",
   "execution_count": null,
   "metadata": {},
   "outputs": [],
   "source": [
    "## The right breast has no abnormalities, choose some coordinates that draw a box around a similar area\n",
    "# of the breast tissue as you chose with the left:\n",
    "\n",
    "normal_x = [440,500]\n",
    "normal_y = [300,360]"
   ]
  },
  {
   "cell_type": "markdown",
   "metadata": {},
   "source": [
    "### Now plot the intensity values of the two types of tissue:"
   ]
  },
  {
   "cell_type": "code",
   "execution_count": null,
   "metadata": {},
   "outputs": [],
   "source": [
    "plt.figure(figsize=(5,5))\n",
    "plt.hist(mammo_left[tumor_y[0]:tumor_y[1],tumor_x[0]:tumor_x[1]].ravel(), bins = 256,color='red')\n",
    "plt.hist(mammo_right[normal_y[0]:normal_y[1],normal_x[0]:normal_x[1]].ravel(),bins =256,color='blue')\n",
    "plt.legend(['Tumor','Normal Tissue'])\n",
    "plt.xlabel('intensity')\n",
    "plt.ylabel('number of pixels')\n",
    "plt.show()"
   ]
  },
  {
   "cell_type": "code",
   "execution_count": null,
   "metadata": {},
   "outputs": [],
   "source": []
  }
 ],
 "metadata": {
  "kernelspec": {
   "display_name": "Python 3",
   "language": "python",
   "name": "python3"
  },
  "language_info": {
   "codemirror_mode": {
    "name": "ipython",
    "version": 3
   },
   "file_extension": ".py",
   "mimetype": "text/x-python",
   "name": "python",
   "nbconvert_exporter": "python",
   "pygments_lexer": "ipython3",
   "version": "3.7.6"
  }
 },
 "nbformat": 4,
 "nbformat_minor": 2
}
